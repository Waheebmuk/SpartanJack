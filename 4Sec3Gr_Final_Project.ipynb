{
 "cells": [
  {
   "cell_type": "code",
   "execution_count": 2,
   "metadata": {},
   "outputs": [],
   "source": [
    "import random\n",
    "\n",
    "deck = [\"A\", \"2\", \"3\", \"4\", \"5\", \"6\", \"7\", \"8\", \"9\", \"10\", \"J\", \"Q\", \"K\"]\n",
    "card_type = [\"♥\", \"♦\", \"♣\", \"♠\"]\n",
    "card_value = {\"K\":10,\"Q\":10, \"J\":10, \"A\":[1, 11], \"1\":10, \"2\":2, \"3\":3, \"4\":4, \"5\":5, \"6\":6, \"7\":7, \"8\":8, \"9\":9}"
   ]
  },
  {
   "cell_type": "code",
   "execution_count": 3,
   "metadata": {},
   "outputs": [
    {
     "name": "stdout",
     "output_type": "stream",
     "text": [
      "3♥ 5♣ A♠ 9♥\n",
      "3 5 [1, 11] 9\n"
     ]
    }
   ],
   "source": [
    "def deck_of_cards():\n",
    "    full_deck = []\n",
    "    for i in deck:\n",
    "        for j in card_type:\n",
    "            full_deck.append(i + j)\n",
    "    return full_deck\n",
    "\n",
    "    \n",
    "def draw_card(full_deck):\n",
    "    return random.choice(full_deck)\n",
    "\n",
    "\n",
    "def take_out_card(full_deck, card):\n",
    "    return full_deck.remove(card)\n",
    "\n",
    "def talk_to_spartan():\n",
    "    x = str(input(\"What do you want to ask?:  \"))\n",
    "    if x == 'How do I play?':\n",
    "        print(\"\\n\\nThe rules of the game are:\" \"\\n\\n•The goal is to reach or be as close to 21 as possible.\" \"\\n•If you go over you lose.\" \"\\n•You are playing against me, Spartan\" \"\\n•When you are ready use the startGame function\")\n",
    "    elif x == 'Nothing':\n",
    "        print('\\nWhat a waste of time!')\n",
    "    elif x == 'Tell me a joke.':\n",
    "        print(\"\\nWhy do we tell actors to 'break a leg'?\" \"\\nBecause every movie/show has a cast.\")\n",
    "    elif x == 'Waheeb':\n",
    "        print(\"\\nWoah! You just guessed the name of my creator!\")\n",
    "    elif x == 'Austin':\n",
    "        print(\"\\nWoah! You just guessed the name of my creator!\")\n",
    "    elif x == 'Ricardo':\n",
    "        print(\"\\nWoah! You just guessed the name of my creator!\")\n",
    "    elif x == 'Brennon':\n",
    "        print(\"\\nWoah! You just guessed the name of my creator!\")\n",
    "    else:\n",
    "        print('\\nWhat?')\n",
    "\n",
    "\n",
    "#testing to see if drawing cards and assigning values works\n",
    "\n",
    "new_card_deck = deck_of_cards()\n",
    "card_1 = draw_card(new_card_deck)\n",
    "take_out_card(new_card_deck, card_1)\n",
    "\n",
    "card_2 = draw_card(new_card_deck)\n",
    "take_out_card(new_card_deck, card_2)\n",
    "\n",
    "card_3 = draw_card(new_card_deck)\n",
    "take_out_card(new_card_deck, card_3)\n",
    "\n",
    "card_4 = draw_card(new_card_deck)\n",
    "take_out_card(new_card_deck, card_4)\n",
    "\n",
    "print(card_1, card_2, card_3, card_4)\n",
    "print(card_value[card_1[0]], card_value[card_2[0]], card_value[card_3[0]], card_value[card_4[0]])"
   ]
  },
  {
   "cell_type": "code",
   "execution_count": 4,
   "metadata": {},
   "outputs": [],
   "source": [
    "def value(list):\n",
    "    value = 0\n",
    "    for i in list:\n",
    "        curcard = i[0]\n",
    "        if curcard == \"A\":\n",
    "            if value + 11 <= 21:\n",
    "                value += 11\n",
    "            else:\n",
    "                value += 1\n",
    "        else:\n",
    "            value += int(card_value[i[0]])\n",
    "    return value\n",
    "\n",
    "def value_d(list):\n",
    "    value = 0\n",
    "    for i in list:\n",
    "        curcard = i[0]\n",
    "        if curcard == \"A\":\n",
    "            if value + 11 <= 21:\n",
    "                value += 11\n",
    "            else:\n",
    "                value += 1\n",
    "        else:\n",
    "            value += int(card_value[i[0]])\n",
    "    return value"
   ]
  },
  {
   "cell_type": "code",
   "execution_count": 5,
   "metadata": {},
   "outputs": [
    {
     "name": "stdout",
     "output_type": "stream",
     "text": [
      "['K♥', '5♦']\n",
      "15\n",
      "['A♥', 'A♦', 'A♣', 'A♠', '2♥', '2♦', '2♣', '2♠', '3♥', '3♦', '3♣', '3♠', '4♥', '4♦', '4♣', '4♠', '5♥', '5♣', '5♠', '6♥', '6♦', '6♣', '6♠', '7♥', '7♦', '7♣', '7♠', '8♥', '8♦', '8♣', '8♠', '9♥', '9♦', '9♣', '9♠', '10♥', '10♦', '10♣', '10♠', 'J♥', 'J♦', 'J♣', 'J♠', 'Q♥', 'Q♦', 'Q♣', 'Q♠', 'K♦', 'K♣', 'K♠']\n"
     ]
    }
   ],
   "source": [
    "def remove(deck, hand):\n",
    "    cards_to_remove = []\n",
    "    x = 0\n",
    "    for i in hand:\n",
    "        cards_to_remove.append(i)\n",
    "    while x < len(cards_to_remove):\n",
    "        take_out_card(deck, cards_to_remove[0])\n",
    "        take_out_card(cards_to_remove, cards_to_remove[0])\n",
    "\n",
    "#testing to see if values add up, and are then removed from the deck\n",
    "deck234 = deck_of_cards()\n",
    "curhand = [draw_card(deck234), draw_card(deck234)]\n",
    "print(curhand)\n",
    "print(value(curhand))\n",
    "remove(deck234, curhand)\n",
    "print(deck234)"
   ]
  },
  {
   "cell_type": "code",
   "execution_count": 6,
   "metadata": {},
   "outputs": [],
   "source": [
    "def compare(value_d, value_p):\n",
    "    print(\"\\nLet's compare\")\n",
    "    if value_p > 21:\n",
    "        print(\"You lost!\")\n",
    "    elif value_d > 21:\n",
    "        print(\"You won!\")\n",
    "    elif value_p == value_d:\n",
    "        print(\"It's a tie!\")\n",
    "    elif value_p == 21:\n",
    "        print(\"You won!\")\n",
    "    elif value_d > value_p:\n",
    "        print(\"You lost!\")\n",
    "    elif value_p > value_d:\n",
    "        print(\"You won!\")"
   ]
  },
  {
   "cell_type": "code",
   "execution_count": 7,
   "metadata": {},
   "outputs": [],
   "source": [
    "def hit(deck, hand):\n",
    "    hand.append(draw_card(deck))\n",
    "    remove(deck, hand)"
   ]
  },
  {
   "cell_type": "code",
   "execution_count": 8,
   "metadata": {},
   "outputs": [],
   "source": [
    "def startGame():\n",
    "    new_card_deck = deck_of_cards()\n",
    "    hand_p = [draw_card(new_card_deck), draw_card(new_card_deck)]\n",
    "    remove(new_card_deck, hand_p)\n",
    "    print(\"Your hand is \" + str(hand_p))\n",
    "    print(\"Your total is\", value(hand_p))\n",
    "    \n",
    "    hand_d = [draw_card(new_card_deck), draw_card(new_card_deck)]\n",
    "    while value(hand_d) < 17:\n",
    "        hand_d.append(draw_card(new_card_deck))\n",
    "    remove(new_card_deck, hand_d)\n",
    "    print(\"\\nOne of the dealer's cards is \" + str(hand_d[:1]))\n",
    "    \n",
    "    if value(hand_p) == 21:\n",
    "        compare(value(hand_d), value(hand_p))\n",
    "    \n",
    "    while value(hand_p) < 21:\n",
    "        decision = input(\"\\nWould you like to hit or stay? If you would like to hit, type 'hit'. If you would like to stay, type 'stay'\")\n",
    "        if decision == \"stay\":\n",
    "            print(\"\\nLet's see what the dealer has\")\n",
    "            print(\"\\nThe dealer's hand is \" + str(hand_d))\n",
    "            compare(value(hand_d), value(hand_p))\n",
    "            break\n",
    "        elif decision == \"hit\":\n",
    "            hand_p.append(draw_card(new_card_deck))\n",
    "            take_out_card(new_card_deck, hand_p[-1])\n",
    "            print(\"\\nYour new hand is \" + str(hand_p))\n",
    "            print(\"\\nYour total is now\", value(hand_p))\n",
    "            if value(hand_p) == 21:\n",
    "                print(\"\\n21! You win!\")\n",
    "    \n",
    "    if value(hand_p) > 21:\n",
    "        #print(\"\\nThe dealer's hand is \" + str(hand_d))\n",
    "        #compare(value(hand_d), value(hand_p))\n",
    "        print(\"\\nYou Busted! The dealer won.\")"
   ]
  },
  {
   "cell_type": "markdown",
   "metadata": {},
   "source": [
    "# Welcome to SpartanJack!\n",
    "<br> Use the ```talk_to_spartan()``` to ask a question! You can say: \"How do I play?\", \"Tell me a joke.\", or try and guess the name of the developer ;) **Hint:** Make sure to capatilize the first letter of the name.\n",
    "\n",
    "<br> If you want to jump straight into action use the ```startGame()``` function to play!\n",
    "<br>\n",
    "<br>\n",
    "Please make sure to run all code blocks from the begining before you run ```startGame()``` or ```talk_to_startan```\n",
    "<br>\n",
    "<br>\n",
    "**We hope you enjoy our game!**\n"
   ]
  },
  {
   "cell_type": "code",
   "execution_count": 9,
   "metadata": {},
   "outputs": [
    {
     "name": "stdout",
     "output_type": "stream",
     "text": [
      "Your hand is ['J♣', '7♠']\n",
      "Your total is 17\n",
      "\n",
      "One of the dealer's cards is ['Q♦']\n"
     ]
    },
    {
     "name": "stdin",
     "output_type": "stream",
     "text": [
      "\n",
      "Would you like to hit or stay? If you would like to hit, type 'hit'. If you would like to stay, type 'stay' hit\n"
     ]
    },
    {
     "name": "stdout",
     "output_type": "stream",
     "text": [
      "\n",
      "Your new hand is ['J♣', '7♠', '2♦']\n",
      "\n",
      "Your total is now 19\n"
     ]
    },
    {
     "name": "stdin",
     "output_type": "stream",
     "text": [
      "\n",
      "Would you like to hit or stay? If you would like to hit, type 'hit'. If you would like to stay, type 'stay' stay\n"
     ]
    },
    {
     "name": "stdout",
     "output_type": "stream",
     "text": [
      "\n",
      "Let's see what the dealer has\n",
      "\n",
      "The dealer's hand is ['Q♦', 'Q♥']\n",
      "\n",
      "Let's compare\n",
      "You lost!\n"
     ]
    }
   ],
   "source": [
    "startGame()"
   ]
  },
  {
   "cell_type": "code",
   "execution_count": null,
   "metadata": {},
   "outputs": [],
   "source": []
  }
 ],
 "metadata": {
  "kernelspec": {
   "display_name": "Python 3",
   "language": "python",
   "name": "python3"
  },
  "language_info": {
   "codemirror_mode": {
    "name": "ipython",
    "version": 3
   },
   "file_extension": ".py",
   "mimetype": "text/x-python",
   "name": "python",
   "nbconvert_exporter": "python",
   "pygments_lexer": "ipython3",
   "version": "3.8.5"
  }
 },
 "nbformat": 4,
 "nbformat_minor": 4
}
